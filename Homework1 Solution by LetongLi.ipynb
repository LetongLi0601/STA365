{
 "cells": [
  {
   "cell_type": "markdown",
   "id": "12947306",
   "metadata": {},
   "source": [
    "# Homework1 Solution by Letong Li\n",
    "Specify the parameter values for $(\\theta_A,\\theta_B,\\theta_C)=(0.3,0.5,0.7)$"
   ]
  },
  {
   "cell_type": "markdown",
   "id": "dd200329",
   "metadata": {},
   "source": []
  }
 ],
 "metadata": {
  "celltoolbar": "Slideshow",
  "kernelspec": {
   "display_name": "Python 3 (ipykernel)",
   "language": "python",
   "name": "python3"
  },
  "language_info": {
   "codemirror_mode": {
    "name": "ipython",
    "version": 3
   },
   "file_extension": ".py",
   "mimetype": "text/x-python",
   "name": "python",
   "nbconvert_exporter": "python",
   "pygments_lexer": "ipython3",
   "version": "3.11.6"
  }
 },
 "nbformat": 4,
 "nbformat_minor": 5
}
